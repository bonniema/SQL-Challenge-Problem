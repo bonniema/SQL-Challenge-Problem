{
 "cells": [
  {
   "cell_type": "markdown",
   "metadata": {},
   "source": [
    "# Shared Student Notebook "
   ]
  },
  {
   "cell_type": "markdown",
   "metadata": {},
   "source": [
    "## The Situation:\n",
    "Dallas Police Department compiled information on Officer-involved shootings in the greater Dallas, TX area with the intent of providing transparency to citizens. An overview of this effort can be found on the Dallas PD Website.\n",
    "\n",
    "## The Database:\n",
    "This database contains three tables: Incidents, Officers, and Subjects. Explore the data in each of the tables in dallas-ois.sqlite.\n",
    "\n",
    "## Your Challenge:\n",
    "Join the tables together by incident number. Then, do the following:\n",
    "\n",
    "Select all rows in which the victim was killed or injured. Make tables with the counts associated with victim weapon type, officer names, and grand jury disposition. Then, answer these questions:\n",
    "\n",
    "- How many of them were unarmed?\n",
    "- Were any officers involved in multiple cases?\n",
    "- How many cases are still pending?\n",
    "- How many of the cases had an officer and victim of the same race?\n",
    "\n",
    "Create a Jupyter notebook as a class and work on this collaboratively, using Slack and pull requests. Matt and I will collect the class's notebook from this folder on Friday night."
   ]
  },
  {
   "cell_type": "code",
   "execution_count": 2,
   "metadata": {},
   "outputs": [],
   "source": [
    "import pandas as pd\n",
    "import sqlite3 "
   ]
  },
  {
   "cell_type": "code",
   "execution_count": 3,
   "metadata": {},
   "outputs": [],
   "source": [
    "conn = sqlite3.connect(\"dallas-ois.sqlite\")\n",
    "cur = conn.cursor()"
   ]
  },
  {
   "cell_type": "code",
   "execution_count": 4,
   "metadata": {},
   "outputs": [],
   "source": [
    "###Helper Code###\n",
    "\n",
    "def sql_with_cols(query,cursor=cur):\n",
    "  '''\n",
    "  Gives me the full result (with columns)\n",
    "  '''\n",
    "  result = cursor.execute(query).fetchall()\n",
    "  cols = tuple([description[0] for description in cur.description])\n",
    "  \n",
    "  full_result = (cols, result[:])\n",
    "  return full_result\n",
    "\n",
    "def df_sql(query, cursor=cur):\n",
    "    cols, result_data = sql_with_cols(query, cursor)\n",
    "    return pd.DataFrame(data=result_data, columns=cols)"
   ]
  },
  {
   "cell_type": "code",
   "execution_count": 5,
   "metadata": {},
   "outputs": [],
   "source": [
    "query = \"\"\"SELECT * FROM Incidents\n",
    ";\"\"\"\n",
    "\n",
    "incident = df_sql(query)"
   ]
  },
  {
   "cell_type": "code",
   "execution_count": 6,
   "metadata": {},
   "outputs": [
    {
     "data": {
      "text/plain": [
       "219"
      ]
     },
     "execution_count": 6,
     "metadata": {},
     "output_type": "execute_result"
    }
   ],
   "source": [
    "len(incident)"
   ]
  },
  {
   "cell_type": "code",
   "execution_count": 7,
   "metadata": {},
   "outputs": [
    {
     "data": {
      "text/html": [
       "<div>\n",
       "<style scoped>\n",
       "    .dataframe tbody tr th:only-of-type {\n",
       "        vertical-align: middle;\n",
       "    }\n",
       "\n",
       "    .dataframe tbody tr th {\n",
       "        vertical-align: top;\n",
       "    }\n",
       "\n",
       "    .dataframe thead th {\n",
       "        text-align: right;\n",
       "    }\n",
       "</style>\n",
       "<table border=\"1\" class=\"dataframe\">\n",
       "  <thead>\n",
       "    <tr style=\"text-align: right;\">\n",
       "      <th></th>\n",
       "      <th>case_number</th>\n",
       "      <th>date</th>\n",
       "      <th>location</th>\n",
       "      <th>subject_statuses</th>\n",
       "      <th>subject_weapon</th>\n",
       "      <th>subjects</th>\n",
       "      <th>subject_count</th>\n",
       "      <th>officers</th>\n",
       "      <th>officer_count</th>\n",
       "      <th>grand_jury_disposition</th>\n",
       "      <th>attorney_general_forms_url</th>\n",
       "      <th>summary_url</th>\n",
       "      <th>summary_text</th>\n",
       "      <th>latitude</th>\n",
       "      <th>longitude</th>\n",
       "    </tr>\n",
       "  </thead>\n",
       "  <tbody>\n",
       "    <tr>\n",
       "      <th>0</th>\n",
       "      <td>44523A</td>\n",
       "      <td>2013-02-23</td>\n",
       "      <td>3000 Chihuahua Street</td>\n",
       "      <td>Injured</td>\n",
       "      <td>Handgun</td>\n",
       "      <td>Curry, James L/M</td>\n",
       "      <td>1</td>\n",
       "      <td>Patino, Michael L/M; Fillingim, Brian W/M</td>\n",
       "      <td>2</td>\n",
       "      <td>No Bill</td>\n",
       "      <td>None</td>\n",
       "      <td>http://dallaspolice.net/reports/OIS/narrative/...</td>\n",
       "      <td>On Saturday, February 23, 2013, at approximate...</td>\n",
       "      <td>NaN</td>\n",
       "      <td>NaN</td>\n",
       "    </tr>\n",
       "    <tr>\n",
       "      <th>1</th>\n",
       "      <td>121982X</td>\n",
       "      <td>2010-05-03</td>\n",
       "      <td>1300 N. Munger Boulevard</td>\n",
       "      <td>Injured</td>\n",
       "      <td>Handgun</td>\n",
       "      <td>Chavez, Gabriel L/M</td>\n",
       "      <td>1</td>\n",
       "      <td>Padilla, Gilbert L/M</td>\n",
       "      <td>1</td>\n",
       "      <td>No Bill</td>\n",
       "      <td>None</td>\n",
       "      <td>http://dallaspolice.net/reports/OIS/narrative/...</td>\n",
       "      <td>On Monday, May 3, 2010, at approximately 8:06 ...</td>\n",
       "      <td>NaN</td>\n",
       "      <td>NaN</td>\n",
       "    </tr>\n",
       "    <tr>\n",
       "      <th>2</th>\n",
       "      <td>605484T</td>\n",
       "      <td>2007-08-12</td>\n",
       "      <td>200 S. Stemmons Freeway</td>\n",
       "      <td>Other</td>\n",
       "      <td>Shotgun</td>\n",
       "      <td>Salinas, Nick L/M</td>\n",
       "      <td>1</td>\n",
       "      <td>Poston, Jerry W/M</td>\n",
       "      <td>1</td>\n",
       "      <td>See Summary</td>\n",
       "      <td>None</td>\n",
       "      <td>http://dallaspolice.net/reports/OIS/narrative/...</td>\n",
       "      <td>On Sunday, August 12, 2007, at approximately 2...</td>\n",
       "      <td>NaN</td>\n",
       "      <td>NaN</td>\n",
       "    </tr>\n",
       "    <tr>\n",
       "      <th>3</th>\n",
       "      <td>384832T</td>\n",
       "      <td>2007-05-26</td>\n",
       "      <td>7900 S. Loop 12</td>\n",
       "      <td>Shoot and Miss</td>\n",
       "      <td>Unarmed</td>\n",
       "      <td>Smith, James B/M; Dews, Antonio B/M; Spearman,...</td>\n",
       "      <td>3</td>\n",
       "      <td>Mondy, Michael B/M</td>\n",
       "      <td>1</td>\n",
       "      <td>None</td>\n",
       "      <td>None</td>\n",
       "      <td>http://dallaspolice.net/reports/OIS/narrative/...</td>\n",
       "      <td>On Saturday, May 26, 2007, at approximately 1:...</td>\n",
       "      <td>NaN</td>\n",
       "      <td>NaN</td>\n",
       "    </tr>\n",
       "    <tr>\n",
       "      <th>4</th>\n",
       "      <td>244659R</td>\n",
       "      <td>2006-04-03</td>\n",
       "      <td>6512 South Loop 12</td>\n",
       "      <td>Injured</td>\n",
       "      <td>Hands</td>\n",
       "      <td>Watkins, Caleb B/M</td>\n",
       "      <td>1</td>\n",
       "      <td>Armstrong, Michael W/M</td>\n",
       "      <td>1</td>\n",
       "      <td>No Bill</td>\n",
       "      <td>None</td>\n",
       "      <td>http://dallaspolice.net/reports/OIS/narrative/...</td>\n",
       "      <td>On Monday, April 3, 2006, at approximately 11:...</td>\n",
       "      <td>NaN</td>\n",
       "      <td>NaN</td>\n",
       "    </tr>\n",
       "  </tbody>\n",
       "</table>\n",
       "</div>"
      ],
      "text/plain": [
       "  case_number        date                  location subject_statuses  \\\n",
       "0      44523A  2013-02-23     3000 Chihuahua Street          Injured   \n",
       "1     121982X  2010-05-03  1300 N. Munger Boulevard          Injured   \n",
       "2     605484T  2007-08-12   200 S. Stemmons Freeway            Other   \n",
       "3     384832T  2007-05-26           7900 S. Loop 12   Shoot and Miss   \n",
       "4     244659R  2006-04-03        6512 South Loop 12          Injured   \n",
       "\n",
       "  subject_weapon                                           subjects  \\\n",
       "0        Handgun                                   Curry, James L/M   \n",
       "1        Handgun                                Chavez, Gabriel L/M   \n",
       "2        Shotgun                                  Salinas, Nick L/M   \n",
       "3        Unarmed  Smith, James B/M; Dews, Antonio B/M; Spearman,...   \n",
       "4          Hands                                 Watkins, Caleb B/M   \n",
       "\n",
       "   subject_count                                   officers  officer_count  \\\n",
       "0              1  Patino, Michael L/M; Fillingim, Brian W/M              2   \n",
       "1              1                       Padilla, Gilbert L/M              1   \n",
       "2              1                          Poston, Jerry W/M              1   \n",
       "3              3                         Mondy, Michael B/M              1   \n",
       "4              1                     Armstrong, Michael W/M              1   \n",
       "\n",
       "  grand_jury_disposition attorney_general_forms_url  \\\n",
       "0                No Bill                       None   \n",
       "1                No Bill                       None   \n",
       "2            See Summary                       None   \n",
       "3                   None                       None   \n",
       "4                No Bill                       None   \n",
       "\n",
       "                                         summary_url  \\\n",
       "0  http://dallaspolice.net/reports/OIS/narrative/...   \n",
       "1  http://dallaspolice.net/reports/OIS/narrative/...   \n",
       "2  http://dallaspolice.net/reports/OIS/narrative/...   \n",
       "3  http://dallaspolice.net/reports/OIS/narrative/...   \n",
       "4  http://dallaspolice.net/reports/OIS/narrative/...   \n",
       "\n",
       "                                        summary_text  latitude  longitude  \n",
       "0  On Saturday, February 23, 2013, at approximate...       NaN        NaN  \n",
       "1  On Monday, May 3, 2010, at approximately 8:06 ...       NaN        NaN  \n",
       "2  On Sunday, August 12, 2007, at approximately 2...       NaN        NaN  \n",
       "3  On Saturday, May 26, 2007, at approximately 1:...       NaN        NaN  \n",
       "4  On Monday, April 3, 2006, at approximately 11:...       NaN        NaN  "
      ]
     },
     "execution_count": 7,
     "metadata": {},
     "output_type": "execute_result"
    }
   ],
   "source": [
    "incident.head()"
   ]
  },
  {
   "cell_type": "code",
   "execution_count": 8,
   "metadata": {},
   "outputs": [],
   "source": [
    "query = \"\"\"SELECT * FROM Officers\n",
    ";\"\"\"\n",
    "\n",
    "officers = df_sql(query)"
   ]
  },
  {
   "cell_type": "code",
   "execution_count": 9,
   "metadata": {},
   "outputs": [
    {
     "data": {
      "text/html": [
       "<div>\n",
       "<style scoped>\n",
       "    .dataframe tbody tr th:only-of-type {\n",
       "        vertical-align: middle;\n",
       "    }\n",
       "\n",
       "    .dataframe tbody tr th {\n",
       "        vertical-align: top;\n",
       "    }\n",
       "\n",
       "    .dataframe thead th {\n",
       "        text-align: right;\n",
       "    }\n",
       "</style>\n",
       "<table border=\"1\" class=\"dataframe\">\n",
       "  <thead>\n",
       "    <tr style=\"text-align: right;\">\n",
       "      <th></th>\n",
       "      <th>case_number</th>\n",
       "      <th>race</th>\n",
       "      <th>gender</th>\n",
       "      <th>last_name</th>\n",
       "      <th>first_name</th>\n",
       "      <th>full_name</th>\n",
       "    </tr>\n",
       "  </thead>\n",
       "  <tbody>\n",
       "    <tr>\n",
       "      <th>0</th>\n",
       "      <td>44523A</td>\n",
       "      <td>L</td>\n",
       "      <td>M</td>\n",
       "      <td>Patino</td>\n",
       "      <td>Michael</td>\n",
       "      <td>Patino, Michael</td>\n",
       "    </tr>\n",
       "    <tr>\n",
       "      <th>1</th>\n",
       "      <td>44523A</td>\n",
       "      <td>W</td>\n",
       "      <td>M</td>\n",
       "      <td>Fillingim</td>\n",
       "      <td>Brian</td>\n",
       "      <td>Fillingim, Brian</td>\n",
       "    </tr>\n",
       "    <tr>\n",
       "      <th>2</th>\n",
       "      <td>121982X</td>\n",
       "      <td>L</td>\n",
       "      <td>M</td>\n",
       "      <td>Padilla</td>\n",
       "      <td>Gilbert</td>\n",
       "      <td>Padilla, Gilbert</td>\n",
       "    </tr>\n",
       "    <tr>\n",
       "      <th>3</th>\n",
       "      <td>605484T</td>\n",
       "      <td>W</td>\n",
       "      <td>M</td>\n",
       "      <td>Poston</td>\n",
       "      <td>Jerry</td>\n",
       "      <td>Poston, Jerry</td>\n",
       "    </tr>\n",
       "    <tr>\n",
       "      <th>4</th>\n",
       "      <td>384832T</td>\n",
       "      <td>B</td>\n",
       "      <td>M</td>\n",
       "      <td>Mondy</td>\n",
       "      <td>Michael</td>\n",
       "      <td>Mondy, Michael</td>\n",
       "    </tr>\n",
       "  </tbody>\n",
       "</table>\n",
       "</div>"
      ],
      "text/plain": [
       "  case_number race gender  last_name first_name         full_name\n",
       "0      44523A    L      M     Patino    Michael   Patino, Michael\n",
       "1      44523A    W      M  Fillingim      Brian  Fillingim, Brian\n",
       "2     121982X    L      M    Padilla    Gilbert  Padilla, Gilbert\n",
       "3     605484T    W      M     Poston      Jerry     Poston, Jerry\n",
       "4     384832T    B      M      Mondy    Michael    Mondy, Michael"
      ]
     },
     "execution_count": 9,
     "metadata": {},
     "output_type": "execute_result"
    }
   ],
   "source": [
    "officers.head()"
   ]
  },
  {
   "cell_type": "code",
   "execution_count": 10,
   "metadata": {},
   "outputs": [],
   "source": [
    "query = \"\"\"SELECT * FROM Subjects\n",
    ";\"\"\"\n",
    "\n",
    "subjects = df_sql(query)"
   ]
  },
  {
   "cell_type": "code",
   "execution_count": 11,
   "metadata": {},
   "outputs": [
    {
     "data": {
      "text/html": [
       "<div>\n",
       "<style scoped>\n",
       "    .dataframe tbody tr th:only-of-type {\n",
       "        vertical-align: middle;\n",
       "    }\n",
       "\n",
       "    .dataframe tbody tr th {\n",
       "        vertical-align: top;\n",
       "    }\n",
       "\n",
       "    .dataframe thead th {\n",
       "        text-align: right;\n",
       "    }\n",
       "</style>\n",
       "<table border=\"1\" class=\"dataframe\">\n",
       "  <thead>\n",
       "    <tr style=\"text-align: right;\">\n",
       "      <th></th>\n",
       "      <th>case_number</th>\n",
       "      <th>race</th>\n",
       "      <th>gender</th>\n",
       "      <th>last_name</th>\n",
       "      <th>first_name</th>\n",
       "      <th>full_name</th>\n",
       "    </tr>\n",
       "  </thead>\n",
       "  <tbody>\n",
       "    <tr>\n",
       "      <th>0</th>\n",
       "      <td>44523A</td>\n",
       "      <td>L</td>\n",
       "      <td>M</td>\n",
       "      <td>Curry</td>\n",
       "      <td>James</td>\n",
       "      <td>Curry, James</td>\n",
       "    </tr>\n",
       "    <tr>\n",
       "      <th>1</th>\n",
       "      <td>121982X</td>\n",
       "      <td>L</td>\n",
       "      <td>M</td>\n",
       "      <td>Chavez</td>\n",
       "      <td>Gabriel</td>\n",
       "      <td>Chavez, Gabriel</td>\n",
       "    </tr>\n",
       "    <tr>\n",
       "      <th>2</th>\n",
       "      <td>605484T</td>\n",
       "      <td>L</td>\n",
       "      <td>M</td>\n",
       "      <td>Salinas</td>\n",
       "      <td>Nick</td>\n",
       "      <td>Salinas, Nick</td>\n",
       "    </tr>\n",
       "    <tr>\n",
       "      <th>3</th>\n",
       "      <td>384832T</td>\n",
       "      <td>B</td>\n",
       "      <td>M</td>\n",
       "      <td>Smith</td>\n",
       "      <td>James</td>\n",
       "      <td>Smith, James</td>\n",
       "    </tr>\n",
       "    <tr>\n",
       "      <th>4</th>\n",
       "      <td>384832T</td>\n",
       "      <td>B</td>\n",
       "      <td>M</td>\n",
       "      <td>Dews</td>\n",
       "      <td>Antonio</td>\n",
       "      <td>Dews, Antonio</td>\n",
       "    </tr>\n",
       "  </tbody>\n",
       "</table>\n",
       "</div>"
      ],
      "text/plain": [
       "  case_number race gender last_name first_name        full_name\n",
       "0      44523A    L      M     Curry      James     Curry, James\n",
       "1     121982X    L      M    Chavez    Gabriel  Chavez, Gabriel\n",
       "2     605484T    L      M   Salinas       Nick    Salinas, Nick\n",
       "3     384832T    B      M     Smith      James     Smith, James\n",
       "4     384832T    B      M      Dews    Antonio    Dews, Antonio"
      ]
     },
     "execution_count": 11,
     "metadata": {},
     "output_type": "execute_result"
    }
   ],
   "source": [
    "subjects.head()"
   ]
  },
  {
   "cell_type": "code",
   "execution_count": 49,
   "metadata": {},
   "outputs": [
    {
     "name": "stdout",
     "output_type": "stream",
     "text": [
      "<class 'pandas.core.frame.DataFrame'>\n",
      "RangeIndex: 377 entries, 0 to 376\n",
      "Data columns (total 25 columns):\n",
      "case_number                   377 non-null object\n",
      "date                          377 non-null object\n",
      "location                      377 non-null object\n",
      "subject_statuses              377 non-null object\n",
      "subject_weapon                377 non-null object\n",
      "subjects                      377 non-null object\n",
      "subject_count                 377 non-null int64\n",
      "officers                      377 non-null object\n",
      "officer_count                 377 non-null int64\n",
      "grand_jury_disposition        262 non-null object\n",
      "attorney_general_forms_url    5 non-null object\n",
      "summary_url                   363 non-null object\n",
      "summary_text                  363 non-null object\n",
      "latitude                      365 non-null float64\n",
      "longitude                     365 non-null float64\n",
      "race                          373 non-null object\n",
      "gender                        377 non-null object\n",
      "last_name                     377 non-null object\n",
      "first_name                    374 non-null object\n",
      "full_name                     377 non-null object\n",
      "race                          377 non-null object\n",
      "gender                        377 non-null object\n",
      "last_name                     377 non-null object\n",
      "first_name                    345 non-null object\n",
      "full_name                     377 non-null object\n",
      "dtypes: float64(2), int64(2), object(21)\n",
      "memory usage: 73.7+ KB\n"
     ]
    }
   ],
   "source": [
    "### Join three tables together using case_number###\n",
    "\n",
    "query ='''\n",
    "SELECT * FROM Incidents\n",
    "JOIN Officers\n",
    "USING(case_number)\n",
    "JOIN Subjects\n",
    "USING(case_number);'''\n",
    "\n",
    "df = df_sql(query)\n",
    "df.info()"
   ]
  },
  {
   "cell_type": "code",
   "execution_count": 50,
   "metadata": {},
   "outputs": [],
   "source": [
    "# Rename the `productCode` columns since they are repeated\n",
    "old_cols = list(df.columns)\n",
    "new_cols = (\n",
    "    [f'i_{c}'for c in old_cols[:-10]]\n",
    "    +\n",
    "    [f'o_{c}' for c in old_cols[-10:-5]]\n",
    "    +\n",
    "    [f's_{c}' for c in old_cols[-5:]]\n",
    ")\n",
    "df.columns = new_cols"
   ]
  },
  {
   "cell_type": "code",
   "execution_count": 51,
   "metadata": {
    "scrolled": true
   },
   "outputs": [
    {
     "data": {
      "text/plain": [
       "Index(['i_case_number', 'i_date', 'i_location', 'i_subject_statuses',\n",
       "       'i_subject_weapon', 'i_subjects', 'i_subject_count', 'i_officers',\n",
       "       'i_officer_count', 'i_grand_jury_disposition',\n",
       "       'i_attorney_general_forms_url', 'i_summary_url', 'i_summary_text',\n",
       "       'i_latitude', 'i_longitude', 'o_race', 'o_gender', 'o_last_name',\n",
       "       'o_first_name', 'o_full_name', 's_race', 's_gender', 's_last_name',\n",
       "       's_first_name', 's_full_name'],\n",
       "      dtype='object')"
      ]
     },
     "execution_count": 51,
     "metadata": {},
     "output_type": "execute_result"
    }
   ],
   "source": [
    "df.columns"
   ]
  },
  {
   "cell_type": "code",
   "execution_count": 72,
   "metadata": {},
   "outputs": [
    {
     "data": {
      "text/plain": [
       "array(['Handgun', 'Shotgun', 'Unarmed', 'Hands', 'Vehicle', 'Toy Handgun',\n",
       "       'Rifle', 'Knife', 'Paint Ball Rifle', 'Toy Handun', 'Taser',\n",
       "       'Box Cutter', 'Rock', 'Simulated Handgun', 'Assault Rifle',\n",
       "       'Pellet Gun', 'Toy Rifle', 'BB Rifle', 'Screwdriver', 'BB Gun',\n",
       "       'OC Spray'], dtype=object)"
      ]
     },
     "execution_count": 72,
     "metadata": {},
     "output_type": "execute_result"
    }
   ],
   "source": [
    "df['i_subject_statuses'].unique()\n",
    "df['i_subject_weapon'].unique()"
   ]
  },
  {
   "cell_type": "code",
   "execution_count": 83,
   "metadata": {},
   "outputs": [],
   "source": [
    "###Use sql in pandas###\n",
    "\n",
    "import pandasql\n",
    "from pandasql import sqldf\n",
    "\n",
    "pysqldf = lambda q: sqldf(q, globals())\n"
   ]
  },
  {
   "cell_type": "code",
   "execution_count": 84,
   "metadata": {},
   "outputs": [],
   "source": [
    "### Select all rows in which the victim was killed or injured\n",
    "\n",
    "q = \"\"\"SELECT i_subject_weapon, count(i_subject_weapon) as weapon_count, o_full_name, i_grand_jury_disposition FROM df\n",
    "WHERE i_subject_statuses NOT IN ('Shoot and Miss')\n",
    "GROUP BY i_subject_weapon,o_full_name, i_grand_jury_disposition ;\"\"\"\n",
    "\n",
    "results = pysqldf(q)"
   ]
  },
  {
   "cell_type": "code",
   "execution_count": 85,
   "metadata": {
    "scrolled": true
   },
   "outputs": [
    {
     "data": {
      "text/html": [
       "<div>\n",
       "<style scoped>\n",
       "    .dataframe tbody tr th:only-of-type {\n",
       "        vertical-align: middle;\n",
       "    }\n",
       "\n",
       "    .dataframe tbody tr th {\n",
       "        vertical-align: top;\n",
       "    }\n",
       "\n",
       "    .dataframe thead th {\n",
       "        text-align: right;\n",
       "    }\n",
       "</style>\n",
       "<table border=\"1\" class=\"dataframe\">\n",
       "  <thead>\n",
       "    <tr style=\"text-align: right;\">\n",
       "      <th></th>\n",
       "      <th>i_subject_weapon</th>\n",
       "      <th>weapon_count</th>\n",
       "      <th>o_full_name</th>\n",
       "      <th>i_grand_jury_disposition</th>\n",
       "    </tr>\n",
       "  </thead>\n",
       "  <tbody>\n",
       "    <tr>\n",
       "      <th>0</th>\n",
       "      <td>Assault Rifle</td>\n",
       "      <td>1</td>\n",
       "      <td>Banes, Matthew</td>\n",
       "      <td>None</td>\n",
       "    </tr>\n",
       "    <tr>\n",
       "      <th>1</th>\n",
       "      <td>Assault Rifle</td>\n",
       "      <td>1</td>\n",
       "      <td>Borchardt, Jeremy</td>\n",
       "      <td>None</td>\n",
       "    </tr>\n",
       "    <tr>\n",
       "      <th>2</th>\n",
       "      <td>Assault Rifle</td>\n",
       "      <td>1</td>\n",
       "      <td>Canete, Daniel</td>\n",
       "      <td>None</td>\n",
       "    </tr>\n",
       "    <tr>\n",
       "      <th>3</th>\n",
       "      <td>Assault Rifle</td>\n",
       "      <td>1</td>\n",
       "      <td>Cannon, Elmar</td>\n",
       "      <td>None</td>\n",
       "    </tr>\n",
       "    <tr>\n",
       "      <th>4</th>\n",
       "      <td>Assault Rifle</td>\n",
       "      <td>1</td>\n",
       "      <td>Craig, Robert</td>\n",
       "      <td>None</td>\n",
       "    </tr>\n",
       "  </tbody>\n",
       "</table>\n",
       "</div>"
      ],
      "text/plain": [
       "  i_subject_weapon  weapon_count        o_full_name i_grand_jury_disposition\n",
       "0    Assault Rifle             1     Banes, Matthew                     None\n",
       "1    Assault Rifle             1  Borchardt, Jeremy                     None\n",
       "2    Assault Rifle             1     Canete, Daniel                     None\n",
       "3    Assault Rifle             1      Cannon, Elmar                     None\n",
       "4    Assault Rifle             1      Craig, Robert                     None"
      ]
     },
     "execution_count": 85,
     "metadata": {},
     "output_type": "execute_result"
    }
   ],
   "source": [
    "results.head()"
   ]
  },
  {
   "cell_type": "code",
   "execution_count": 86,
   "metadata": {},
   "outputs": [
    {
     "data": {
      "text/html": [
       "<div>\n",
       "<style scoped>\n",
       "    .dataframe tbody tr th:only-of-type {\n",
       "        vertical-align: middle;\n",
       "    }\n",
       "\n",
       "    .dataframe tbody tr th {\n",
       "        vertical-align: top;\n",
       "    }\n",
       "\n",
       "    .dataframe thead th {\n",
       "        text-align: right;\n",
       "    }\n",
       "</style>\n",
       "<table border=\"1\" class=\"dataframe\">\n",
       "  <thead>\n",
       "    <tr style=\"text-align: right;\">\n",
       "      <th></th>\n",
       "      <th>sum(weapon_count)</th>\n",
       "    </tr>\n",
       "  </thead>\n",
       "  <tbody>\n",
       "    <tr>\n",
       "      <th>0</th>\n",
       "      <td>18</td>\n",
       "    </tr>\n",
       "  </tbody>\n",
       "</table>\n",
       "</div>"
      ],
      "text/plain": [
       "   sum(weapon_count)\n",
       "0                 18"
      ]
     },
     "execution_count": 86,
     "metadata": {},
     "output_type": "execute_result"
    }
   ],
   "source": [
    "### How many of them were unarmed? ### \n",
    "q = \"\"\"SELECT sum(weapon_count) FROM results\n",
    "WHERE i_subject_weapon = 'Unarmed'\n",
    "\"\"\"\n",
    "\n",
    "a = pysqldf(q)\n",
    "a"
   ]
  },
  {
   "cell_type": "code",
   "execution_count": 94,
   "metadata": {},
   "outputs": [],
   "source": [
    "### Were any officers involved in multiple cases?###\n",
    "\n",
    "q = \"\"\"SELECT o_full_name, COUNT(*) AS num_officer  FROM results\n",
    "GROUP BY o_full_name\n",
    "ORDER BY num_officer DESC\n",
    ";\"\"\"\n",
    "\n",
    "b = pysqldf(q)"
   ]
  },
  {
   "cell_type": "code",
   "execution_count": 96,
   "metadata": {},
   "outputs": [],
   "source": [
    "b;"
   ]
  },
  {
   "cell_type": "code",
   "execution_count": 100,
   "metadata": {},
   "outputs": [
    {
     "data": {
      "text/html": [
       "<div>\n",
       "<style scoped>\n",
       "    .dataframe tbody tr th:only-of-type {\n",
       "        vertical-align: middle;\n",
       "    }\n",
       "\n",
       "    .dataframe tbody tr th {\n",
       "        vertical-align: top;\n",
       "    }\n",
       "\n",
       "    .dataframe thead th {\n",
       "        text-align: right;\n",
       "    }\n",
       "</style>\n",
       "<table border=\"1\" class=\"dataframe\">\n",
       "  <thead>\n",
       "    <tr style=\"text-align: right;\">\n",
       "      <th></th>\n",
       "      <th>num_pending</th>\n",
       "    </tr>\n",
       "  </thead>\n",
       "  <tbody>\n",
       "    <tr>\n",
       "      <th>0</th>\n",
       "      <td>38</td>\n",
       "    </tr>\n",
       "  </tbody>\n",
       "</table>\n",
       "</div>"
      ],
      "text/plain": [
       "   num_pending\n",
       "0           38"
      ]
     },
     "execution_count": 100,
     "metadata": {},
     "output_type": "execute_result"
    }
   ],
   "source": [
    "###How many cases are still pending? ###\n",
    "results.i_grand_jury_disposition.unique()\n",
    "\n",
    "q = \"\"\"SELECT COUNT(*) AS num_pending  FROM results\n",
    "WHERE i_grand_jury_disposition = 'Pending'\n",
    ";\"\"\"\n",
    "\n",
    "c = pysqldf(q)\n",
    "c"
   ]
  },
  {
   "cell_type": "code",
   "execution_count": 105,
   "metadata": {},
   "outputs": [
    {
     "data": {
      "text/html": [
       "<div>\n",
       "<style scoped>\n",
       "    .dataframe tbody tr th:only-of-type {\n",
       "        vertical-align: middle;\n",
       "    }\n",
       "\n",
       "    .dataframe tbody tr th {\n",
       "        vertical-align: top;\n",
       "    }\n",
       "\n",
       "    .dataframe thead th {\n",
       "        text-align: right;\n",
       "    }\n",
       "</style>\n",
       "<table border=\"1\" class=\"dataframe\">\n",
       "  <thead>\n",
       "    <tr style=\"text-align: right;\">\n",
       "      <th></th>\n",
       "      <th>num_same_race</th>\n",
       "    </tr>\n",
       "  </thead>\n",
       "  <tbody>\n",
       "    <tr>\n",
       "      <th>0</th>\n",
       "      <td>85</td>\n",
       "    </tr>\n",
       "  </tbody>\n",
       "</table>\n",
       "</div>"
      ],
      "text/plain": [
       "   num_same_race\n",
       "0             85"
      ]
     },
     "execution_count": 105,
     "metadata": {},
     "output_type": "execute_result"
    }
   ],
   "source": [
    "### How many of the cases had an officer and victim of the same race?###\n",
    "\n",
    "q = \"\"\"SELECT COUNT(*) AS num_same_race FROM df\n",
    "WHERE i_subject_statuses NOT IN ('Shoot and Miss')\n",
    "AND o_race = s_race;\"\"\"\n",
    "\n",
    "d = pysqldf(q)\n",
    "\n",
    "d"
   ]
  },
  {
   "cell_type": "code",
   "execution_count": null,
   "metadata": {},
   "outputs": [],
   "source": []
  }
 ],
 "metadata": {
  "kernelspec": {
   "display_name": "Python 3",
   "language": "python",
   "name": "python3"
  },
  "language_info": {
   "codemirror_mode": {
    "name": "ipython",
    "version": 3
   },
   "file_extension": ".py",
   "mimetype": "text/x-python",
   "name": "python",
   "nbconvert_exporter": "python",
   "pygments_lexer": "ipython3",
   "version": "3.7.1"
  }
 },
 "nbformat": 4,
 "nbformat_minor": 2
}
